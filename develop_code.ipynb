{
 "nbformat": 4,
 "nbformat_minor": 2,
 "metadata": {
  "language_info": {
   "name": "python",
   "codemirror_mode": {
    "name": "ipython",
    "version": 3
   },
   "version": "3.7.0-final"
  },
  "orig_nbformat": 2,
  "file_extension": ".py",
  "mimetype": "text/x-python",
  "name": "python",
  "npconvert_exporter": "python",
  "pygments_lexer": "ipython3",
  "version": 3,
  "kernelspec": {
   "name": "python3",
   "display_name": "Python 3"
  }
 },
 "cells": [
  {
   "cell_type": "code",
   "execution_count": 55,
   "metadata": {},
   "outputs": [
    {
     "output_type": "execute_result",
     "data": {
      "text/plain": "    timestamp  uid  campaign  conversion  conversion_timestamp\n0   16.262488   13   3406182           0             -0.000012\n1   29.516262   22   2953716           0             -0.000012\n2   29.561424   22   2953716           0             -0.000012\n3   29.565231   22   2953716           0             -0.000012\n4   29.570162   22   2953716           0             -0.000012\n5   10.434329   28   7121544           0             -0.000012\n6   10.434861   28   7121544           0             -0.000012\n7   10.438495   28   7121544           0             -0.000012\n8   17.378414   28   7121544           0             -0.000012\n9    0.825532   36     83677           0             -0.000012\n10   3.522963   36  28795042           0             -0.000012\n11   7.340856   36  28795042           0             -0.000012\n12  29.347396   36     83677           0             -0.000012\n13  12.566505   40  24119478           0             -0.000012\n14  14.861481   40  24119478           0             -0.000012\n15  24.749352   40  24119478           0             -0.000012\n16   0.513981   53  29614011           0             -0.000012\n17   1.727095   53  29614011           0             -0.000012\n18   9.575023   53  29614011           0             -0.000012\n19  10.786019   53  29614011           0             -0.000012",
      "text/html": "<div>\n<style scoped>\n    .dataframe tbody tr th:only-of-type {\n        vertical-align: middle;\n    }\n\n    .dataframe tbody tr th {\n        vertical-align: top;\n    }\n\n    .dataframe thead th {\n        text-align: right;\n    }\n</style>\n<table border=\"1\" class=\"dataframe\">\n  <thead>\n    <tr style=\"text-align: right;\">\n      <th></th>\n      <th>timestamp</th>\n      <th>uid</th>\n      <th>campaign</th>\n      <th>conversion</th>\n      <th>conversion_timestamp</th>\n    </tr>\n  </thead>\n  <tbody>\n    <tr>\n      <th>0</th>\n      <td>16.262488</td>\n      <td>13</td>\n      <td>3406182</td>\n      <td>0</td>\n      <td>-0.000012</td>\n    </tr>\n    <tr>\n      <th>1</th>\n      <td>29.516262</td>\n      <td>22</td>\n      <td>2953716</td>\n      <td>0</td>\n      <td>-0.000012</td>\n    </tr>\n    <tr>\n      <th>2</th>\n      <td>29.561424</td>\n      <td>22</td>\n      <td>2953716</td>\n      <td>0</td>\n      <td>-0.000012</td>\n    </tr>\n    <tr>\n      <th>3</th>\n      <td>29.565231</td>\n      <td>22</td>\n      <td>2953716</td>\n      <td>0</td>\n      <td>-0.000012</td>\n    </tr>\n    <tr>\n      <th>4</th>\n      <td>29.570162</td>\n      <td>22</td>\n      <td>2953716</td>\n      <td>0</td>\n      <td>-0.000012</td>\n    </tr>\n    <tr>\n      <th>5</th>\n      <td>10.434329</td>\n      <td>28</td>\n      <td>7121544</td>\n      <td>0</td>\n      <td>-0.000012</td>\n    </tr>\n    <tr>\n      <th>6</th>\n      <td>10.434861</td>\n      <td>28</td>\n      <td>7121544</td>\n      <td>0</td>\n      <td>-0.000012</td>\n    </tr>\n    <tr>\n      <th>7</th>\n      <td>10.438495</td>\n      <td>28</td>\n      <td>7121544</td>\n      <td>0</td>\n      <td>-0.000012</td>\n    </tr>\n    <tr>\n      <th>8</th>\n      <td>17.378414</td>\n      <td>28</td>\n      <td>7121544</td>\n      <td>0</td>\n      <td>-0.000012</td>\n    </tr>\n    <tr>\n      <th>9</th>\n      <td>0.825532</td>\n      <td>36</td>\n      <td>83677</td>\n      <td>0</td>\n      <td>-0.000012</td>\n    </tr>\n    <tr>\n      <th>10</th>\n      <td>3.522963</td>\n      <td>36</td>\n      <td>28795042</td>\n      <td>0</td>\n      <td>-0.000012</td>\n    </tr>\n    <tr>\n      <th>11</th>\n      <td>7.340856</td>\n      <td>36</td>\n      <td>28795042</td>\n      <td>0</td>\n      <td>-0.000012</td>\n    </tr>\n    <tr>\n      <th>12</th>\n      <td>29.347396</td>\n      <td>36</td>\n      <td>83677</td>\n      <td>0</td>\n      <td>-0.000012</td>\n    </tr>\n    <tr>\n      <th>13</th>\n      <td>12.566505</td>\n      <td>40</td>\n      <td>24119478</td>\n      <td>0</td>\n      <td>-0.000012</td>\n    </tr>\n    <tr>\n      <th>14</th>\n      <td>14.861481</td>\n      <td>40</td>\n      <td>24119478</td>\n      <td>0</td>\n      <td>-0.000012</td>\n    </tr>\n    <tr>\n      <th>15</th>\n      <td>24.749352</td>\n      <td>40</td>\n      <td>24119478</td>\n      <td>0</td>\n      <td>-0.000012</td>\n    </tr>\n    <tr>\n      <th>16</th>\n      <td>0.513981</td>\n      <td>53</td>\n      <td>29614011</td>\n      <td>0</td>\n      <td>-0.000012</td>\n    </tr>\n    <tr>\n      <th>17</th>\n      <td>1.727095</td>\n      <td>53</td>\n      <td>29614011</td>\n      <td>0</td>\n      <td>-0.000012</td>\n    </tr>\n    <tr>\n      <th>18</th>\n      <td>9.575023</td>\n      <td>53</td>\n      <td>29614011</td>\n      <td>0</td>\n      <td>-0.000012</td>\n    </tr>\n    <tr>\n      <th>19</th>\n      <td>10.786019</td>\n      <td>53</td>\n      <td>29614011</td>\n      <td>0</td>\n      <td>-0.000012</td>\n    </tr>\n  </tbody>\n</table>\n</div>"
     },
     "metadata": {},
     "execution_count": 55
    }
   ],
   "source": [
    "import pandas as pd\n",
    "import numpy as np\n",
    "\n",
    "filepath_ordered = r'C:\\Users\\sesig\\Documents\\master data science\\tfm\\criteo_attribution_dataset\\criteo_ordered_dataset.tsv.gz'\n",
    "columns = ['timestamp','uid','campaign','conversion','conversion_timestamp']\n",
    "\n",
    "df = pd.read_csv(filepath_ordered, usecols=columns, sep='\\t', compression='gzip',nrows=5000)\n",
    "\n",
    "#pass timestamp from hours to seconds\n",
    "df.iloc[:,0] = pd.Series.apply(df.iloc[:,0],lambda x: x/86400)\n",
    "df.iloc[:,4] = pd.Series.apply(df.iloc[:,4],lambda x: x/86400)\n",
    "df.iloc[0:20,:]\n",
    "\n",
    ""
   ]
  },
  {
   "cell_type": "code",
   "execution_count": 56,
   "metadata": {},
   "outputs": [
    {
     "output_type": "execute_result",
     "data": {
      "text/plain": "   timestamp  uid  campaign  conversion  conversion_timestamp\n1  29.516262   22   2953716           0             -0.000012\n2  29.561424   22   2953716           0             -0.000012\n3  29.565231   22   2953716           0             -0.000012\n4  29.570162   22   2953716           0             -0.000012",
      "text/html": "<div>\n<style scoped>\n    .dataframe tbody tr th:only-of-type {\n        vertical-align: middle;\n    }\n\n    .dataframe tbody tr th {\n        vertical-align: top;\n    }\n\n    .dataframe thead th {\n        text-align: right;\n    }\n</style>\n<table border=\"1\" class=\"dataframe\">\n  <thead>\n    <tr style=\"text-align: right;\">\n      <th></th>\n      <th>timestamp</th>\n      <th>uid</th>\n      <th>campaign</th>\n      <th>conversion</th>\n      <th>conversion_timestamp</th>\n    </tr>\n  </thead>\n  <tbody>\n    <tr>\n      <th>1</th>\n      <td>29.516262</td>\n      <td>22</td>\n      <td>2953716</td>\n      <td>0</td>\n      <td>-0.000012</td>\n    </tr>\n    <tr>\n      <th>2</th>\n      <td>29.561424</td>\n      <td>22</td>\n      <td>2953716</td>\n      <td>0</td>\n      <td>-0.000012</td>\n    </tr>\n    <tr>\n      <th>3</th>\n      <td>29.565231</td>\n      <td>22</td>\n      <td>2953716</td>\n      <td>0</td>\n      <td>-0.000012</td>\n    </tr>\n    <tr>\n      <th>4</th>\n      <td>29.570162</td>\n      <td>22</td>\n      <td>2953716</td>\n      <td>0</td>\n      <td>-0.000012</td>\n    </tr>\n  </tbody>\n</table>\n</div>"
     },
     "metadata": {},
     "execution_count": 56
    }
   ],
   "source": [
    "df_group = pd.DataFrame.groupby(df,by='uid')\n",
    "\n",
    "df_group.groups\n",
    "a = df_group.get_group(22)\n",
    "a"
   ]
  },
  {
   "cell_type": "code",
   "execution_count": 57,
   "metadata": {
    "tags": [
     "outputPrepend",
     "outputPrepend",
     "outputPrepend",
     "outputPrepend",
     "outputPrepend",
     "outputPrepend",
     "outputPrepend",
     "outputPrepend",
     "outputPrepend",
     "outputPrepend",
     "outputPrepend",
     "outputPrepend",
     "outputPrepend",
     "outputPrepend",
     "outputPrepend",
     "outputPrepend",
     "outputPrepend",
     "outputPrepend",
     "outputPrepend",
     "outputPrepend",
     "outputPrepend",
     "outputPrepend",
     "outputPrepend",
     "outputPrepend",
     "outputPrepend",
     "outputPrepend",
     "outputPrepend",
     "outputPrepend",
     "outputPrepend",
     "outputPrepend"
    ]
   },
   "outputs": [
    {
     "output_type": "stream",
     "name": "stdout",
     "text": "uid  conversion\n0   13           0\n1   22           0\n2   28           0\n3   36           0\n4   40           0\n"
    }
   ],
   "source": [
    "user_conversion = pd.DataFrame(data={'uid':[], 'conversion':[]}, dtype=np.int_)\n",
    "for name, group in df_group:\n",
    "    conv = 0\n",
    "    # print(name)\n",
    "    # print(len(group))\n",
    "    for k in range(len(group)):\n",
    "        if group.iloc[0,3] == 1:\n",
    "            conv = 1\n",
    "    user_conversion = pd.DataFrame.append(user_conversion, {'uid':name, 'conversion':conv}, ignore_index=True)\n",
    "\n",
    "print(user_conversion.head())"
   ]
  },
  {
   "cell_type": "code",
   "execution_count": null,
   "metadata": {},
   "outputs": [],
   "source": []
  },
  {
   "cell_type": "code",
   "execution_count": null,
   "metadata": {},
   "outputs": [],
   "source": []
  }
 ]
}